{
 "cells": [
  {
   "cell_type": "markdown",
   "metadata": {},
   "source": [
    "### Exercise 1\n",
    "\n",
    "Data structure shown in previous notebook \n",
    "\n",
    "                         {'Denmark': 210.05, \n",
    "                          'Bulgaria': 3.56, \n",
    "                          'Belgium': 146.71, \n",
    "                          'Germany': 292.94, \n",
    "                          'Czechia': 14.96}\n",
    "\n",
    "should be transformed in a list of dictionaries named eurostat_5cy where fields have the more generic names:\n",
    "\n",
    "countryname\n",
    "year\n",
    "pat_per_million\n",
    "\n",
    "\n",
    "After that run a loop on your list to find the country with the higher value of patents per\n",
    "million of inhabitants and show it with the country name.\n"
   ]
  },
  {
   "cell_type": "code",
   "execution_count": 8,
   "metadata": {},
   "outputs": [],
   "source": [
    "  eurostat_5cy=           [{'countryname':'Denmark', \n",
    "                          'pat_per_million': 210.05,\n",
    "\t\t\t\t\t\t  'year' : 2006},\n",
    "                         {'countryname':'Bulgaria', \n",
    "                          'pat_per_million': 3.56,\n",
    "\t\t\t\t\t\t  'year' : 2006},\n",
    "                         {'countryname':'Belgium', \n",
    "                          'pat_per_million': 146.71,\n",
    "\t\t\t\t\t\t  'year' : 2006},\n",
    "                         {'countryname':'Germany', \n",
    "                          'pat_per_million': 292.94,\n",
    "\t\t\t\t\t\t  'year' : 2006},\n",
    "                         {'countryname':'Czechia', \n",
    "                          'pat_per_million': 14.96,\n",
    "\t\t\t\t\t\t  'year' : 2006}]"
   ]
  },
  {
   "cell_type": "code",
   "execution_count": 13,
   "metadata": {},
   "outputs": [
    {
     "data": {
      "text/plain": [
       "'The best in 2006 was Germany with 292.94 patents.'"
      ]
     },
     "execution_count": 13,
     "metadata": {},
     "output_type": "execute_result"
    }
   ],
   "source": [
    "# This is only one possible solution\n",
    "\n",
    "max_pat = 0.00\n",
    "best = 'All countries performed terribly!'\n",
    "\n",
    "for countrydata in eurostat_5cy:\n",
    "    if countrydata['pat_per_million'] > max_pat :\n",
    "        max_pat=countrydata['pat_per_million']\n",
    "        best = 'The best in 2006 was ' +countrydata['countryname'] +' with ' + str(countrydata['pat_per_million']) + ' patents.'\n",
    "\n",
    "best"
   ]
  },
  {
   "cell_type": "markdown",
   "metadata": {},
   "source": [
    "\n",
    "\n",
    "Small arrays can be built as lists of lists\n",
    "\n",
    "ex: [[1,2,3],[4,5,6],[7,8,9]] \n",
    "\n",
    "Create a short script to calculate the sum of diagonal elements\n",
    "\n",
    "\n"
   ]
  },
  {
   "cell_type": "code",
   "execution_count": 15,
   "metadata": {},
   "outputs": [
    {
     "data": {
      "text/plain": [
       "([1, 2, 3], [4, 5, 6], [7, 8, 9])"
      ]
     },
     "execution_count": 15,
     "metadata": {},
     "output_type": "execute_result"
    }
   ],
   "source": [
    "l1 = ([1,2,3],[4,5,6],[7,8,9])\n",
    "l1    \n"
   ]
  },
  {
   "cell_type": "code",
   "execution_count": 16,
   "metadata": {},
   "outputs": [
    {
     "data": {
      "text/plain": [
       "15"
      ]
     },
     "execution_count": 16,
     "metadata": {},
     "output_type": "execute_result"
    }
   ],
   "source": [
    "tot_diag = 0\n",
    "i=0\n",
    "for l in l1:\n",
    "    tot_diag = tot_diag + l[i]\n",
    "    i=i+1\n",
    "\n",
    "tot_diag"
   ]
  },
  {
   "cell_type": "code",
   "execution_count": 19,
   "metadata": {},
   "outputs": [
    {
     "data": {
      "text/plain": [
       "15"
      ]
     },
     "execution_count": 19,
     "metadata": {},
     "output_type": "execute_result"
    }
   ],
   "source": [
    "tot_diag2 = 0\n",
    "for i in range(len(l1)):\n",
    "    tot_diag2 += l1[i][i]\n",
    "    \n",
    "tot_diag2    "
   ]
  },
  {
   "cell_type": "code",
   "execution_count": null,
   "metadata": {},
   "outputs": [],
   "source": []
  }
 ],
 "metadata": {
  "kernelspec": {
   "display_name": "Python 3",
   "language": "python",
   "name": "python3"
  },
  "language_info": {
   "codemirror_mode": {
    "name": "ipython",
    "version": 3
   },
   "file_extension": ".py",
   "mimetype": "text/x-python",
   "name": "python",
   "nbconvert_exporter": "python",
   "pygments_lexer": "ipython3",
   "version": "3.6.5"
  }
 },
 "nbformat": 4,
 "nbformat_minor": 2
}
