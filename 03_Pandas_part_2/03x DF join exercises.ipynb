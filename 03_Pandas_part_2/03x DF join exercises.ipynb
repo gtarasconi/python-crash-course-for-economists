{
 "cells": [
  {
   "cell_type": "markdown",
   "metadata": {},
   "source": [
    "## Exercises on dataframes join:\n",
    "\n",
    "\n",
    "1) Update via dataframes\n",
    "\n",
    "Using affiliations dataframe, Create a new DF dataframe containing all countries (countries_df)\n",
    "\n",
    "Then add a column named Italy_bin that is 1 if country is Italy, 0 else (can you do it with a lambda function?)\n",
    "\n",
    "Eventually update original dataframe adding a new column Italy_bin based on the join of the two dataframes by country.\n"
   ]
  },
  {
   "cell_type": "code",
   "execution_count": null,
   "metadata": {},
   "outputs": [],
   "source": [
    "\n",
    "import pandas as pd\n",
    "\n",
    "\n",
    "affs_df = pd.read_csv(\"wos_affiliations.csv\")\n",
    "\n",
    "countries_df=pd.DataFrame(affs_df['country'].unique(), columns = ['countryname']).reindex()\n",
    "\n",
    "countries_df.head()"
   ]
  },
  {
   "cell_type": "code",
   "execution_count": null,
   "metadata": {},
   "outputs": [],
   "source": [
    "countries_df['Italy_bin']= countries_df['countryname'].apply(lambda x: 1 if x=='ITALY' else 0)\n",
    "countries_df.head()"
   ]
  },
  {
   "cell_type": "code",
   "execution_count": null,
   "metadata": {},
   "outputs": [],
   "source": [
    "pubs_df.head()"
   ]
  },
  {
   "cell_type": "markdown",
   "metadata": {},
   "source": [
    "2) Join with publications\n",
    "\n",
    "Use the new dataframe \n",
    "and extract all journals where the majority of affiliations is from countries different than Italy.\n",
    "\n",
    "to make it with a join it requires a double step\n",
    "we have to use join since I renamed country to country name so no common field to merge on\n"
   ]
  },
  {
   "cell_type": "code",
   "execution_count": null,
   "metadata": {},
   "outputs": [],
   "source": [
    "pubs_df = pd.read_csv(\"wos_publications.csv\")\n",
    "\n",
    "#in 2 steps:\n",
    "#pa_df=pd.merge(affs_df, pubs_df, how= 'outer' , on = ['UID'])\n",
    "#countryjournals_df = pa_df.set_index('country').join(countries_df.set_index('countryname'), how = 'inner')\n",
    "\n",
    "countryjournals_df = pd.merge(affs_df, pubs_df, how= 'outer' , on = ['UID']).set_index('country').join(countries_df.set_index('countryname'), how = 'inner')\n",
    "\n",
    "countryjournals_df[[ 'source', 'Italy_bin']].head()\n",
    "\n"
   ]
  },
  {
   "cell_type": "code",
   "execution_count": null,
   "metadata": {},
   "outputs": [],
   "source": [
    "# count with a pivot table\n",
    "pd.pivot_table(countryjournals_df,index=['source'], values='UID', columns = ['Italy_bin'],  fill_value=0, dropna = False, aggfunc='count' )\n",
    "\n"
   ]
  },
  {
   "cell_type": "markdown",
   "metadata": {},
   "source": [
    "### Bonus track:\n",
    "\n",
    "from a dataframe created from the given dictionary\n",
    "\n",
    "create a cumulate sum of number of pages that restarts when column 'field' changes.\n",
    "\n",
    "\n",
    "\n",
    "\n",
    "\n"
   ]
  },
  {
   "cell_type": "code",
   "execution_count": null,
   "metadata": {},
   "outputs": [],
   "source": [
    "import pandas as pd\n",
    "\n",
    "data = {'Article_id': [7, 6, 5, 4, 3, 2, 1, 0], \n",
    "        'field': ['Math', 'Econ', 'Math', 'Econ', 'Finance', 'Math', 'Econ', 'Finance'],\n",
    "        'n_pages': [55,66,77,88,88,121,43,55]\n",
    "       }\n",
    "\n",
    "work_df=pd.DataFrame.from_dict(data).sort_values(['field'])\n",
    "\n",
    "work_df"
   ]
  },
  {
   "cell_type": "code",
   "execution_count": null,
   "metadata": {},
   "outputs": [],
   "source": [
    "work_df.groupby('field').cumsum()"
   ]
  }
 ],
 "metadata": {
  "kernelspec": {
   "display_name": "Python 3",
   "language": "python",
   "name": "python3"
  },
  "language_info": {
   "codemirror_mode": {
    "name": "ipython",
    "version": 3
   },
   "file_extension": ".py",
   "mimetype": "text/x-python",
   "name": "python",
   "nbconvert_exporter": "python",
   "pygments_lexer": "ipython3",
   "version": "3.6.5"
  }
 },
 "nbformat": 4,
 "nbformat_minor": 2
}
