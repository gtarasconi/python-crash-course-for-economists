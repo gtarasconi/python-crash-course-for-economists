{
 "cells": [
  {
   "cell_type": "markdown",
   "metadata": {},
   "source": [
    "#### To use Stata seamlessly in a python jupyter notebook, follow the steps below.\n",
    "\n",
    "Only for Windows. For Mac, see https://github.com/TiesdeKok/ipystata\n",
    "\n",
    "Installation (only once)\n",
    "\n",
    "1. Install ipystata by running \"pip install ipystata\" (without double quotes). Before doing that remember to activate your conda environment.\n",
    "2. Register your Stata instance\n",
    "    * Open a command window as administrator and go to your Stata installation directory (e.g. C:\\Program Files (x86)\\Stata15\\StataSE-64.exe) and lookup the name of your Stata executable (e.g. StataSE-64.exe)\n",
    "    *  Type \"StataSE-64.exe /Register\" (without the double quotes)\n",
    "    \n",
    "Set installation directory for Stata. Use the following commands (change as appropriate) by unrmarking the # symbols. The second time you run the code flag again with the # symbols."
   ]
  },
  {
   "cell_type": "code",
   "execution_count": 1,
   "metadata": {},
   "outputs": [],
   "source": [
    "import ipystata  \n",
    "#from ipystata.config import config_stata  \n",
    "#config_stata('C:\\Program Files (x86)\\Stata15\\StataSE-64.exe')"
   ]
  },
  {
   "cell_type": "markdown",
   "metadata": {},
   "source": [
    "Restart your kernel (Kernel > Restart). You do not need to repeat the steps above every time, but only once."
   ]
  },
  {
   "cell_type": "markdown",
   "metadata": {},
   "source": [
    "#### Usage"
   ]
  },
  {
   "cell_type": "code",
   "execution_count": 2,
   "metadata": {
    "scrolled": true
   },
   "outputs": [],
   "source": [
    "import pandas as pd\n",
    "\n",
    "wos = pd.read_csv(\"wos_publications.csv\")\n",
    "#wos.head()"
   ]
  },
  {
   "cell_type": "raw",
   "metadata": {},
   "source": [
    "Check Stata is working."
   ]
  },
  {
   "cell_type": "code",
   "execution_count": 3,
   "metadata": {},
   "outputs": [
    {
     "name": "stdout",
     "output_type": "stream",
     "text": [
      "\n",
      "Stata is working!\n",
      "\n"
     ]
    }
   ],
   "source": [
    "get_ipython().run_cell_magic('stata', '', '\\ndisplay \"Stata is working!\"')"
   ]
  },
  {
   "cell_type": "markdown",
   "metadata": {},
   "source": [
    "Let's send a python DF to Stata."
   ]
  },
  {
   "cell_type": "code",
   "execution_count": 4,
   "metadata": {},
   "outputs": [],
   "source": [
    "import os\n",
    "os.chdir('D:/Dropbox/Python/notebooks/crash_course/')"
   ]
  },
  {
   "cell_type": "code",
   "execution_count": 5,
   "metadata": {},
   "outputs": [
    {
     "name": "stdout",
     "output_type": "stream",
     "text": [
      "Set the working directory of Stata to: D:\\Dropbox\\Python\\notebooks\\crash_course\n",
      "\n",
      "display not found\n",
      "r(111);\n",
      "\n"
     ]
    }
   ],
   "source": [
    "%%stata -cwd\n",
    "display display \"`c(pwd)'\""
   ]
  },
  {
   "cell_type": "code",
   "execution_count": 6,
   "metadata": {},
   "outputs": [
    {
     "name": "stdout",
     "output_type": "stream",
     "text": [
      "Index(['UID', 'accession_no', 'issn', 'eissn', 'doi', 'doc_type', 'source',\n",
      "       'itemtitle', 'pubyear', 'pubmonth', 'coverdate', 'sortdate', 'vol',\n",
      "       'pubtype', 'issue', 'supplement', 'special_issue', 'part_no',\n",
      "       'indicator', 'is_archive', 'has_abstract', 'oases_type_gold',\n",
      "       'abstract'],\n",
      "      dtype='object')\n"
     ]
    }
   ],
   "source": [
    "print(wos.columns)\n",
    "wos_a = wos.copy()\n",
    "wos_a = wos_a[['UID', 'pubyear', 'pubtype']]"
   ]
  },
  {
   "cell_type": "markdown",
   "metadata": {},
   "source": [
    "Now import the DF wos_a into stata and perform some stata command, e.g. sum"
   ]
  },
  {
   "cell_type": "code",
   "execution_count": 7,
   "metadata": {},
   "outputs": [
    {
     "name": "stdout",
     "output_type": "stream",
     "text": [
      "\n",
      "    Variable |        Obs        Mean    Std. Dev.       Min        Max\n",
      "-------------+---------------------------------------------------------\n",
      "       index |      3,100      1549.5    895.0372          0       3099\n",
      "         UID |          0\n",
      "     pubyear |      3,100    2011.296    4.660814       1984       2018\n",
      "     pubtype |          0\n",
      "\n",
      "---------------------------------------------------------------------------------------------------------------------------------\n",
      "-> pubtype = Book in series\n",
      "\n",
      "    pubyear |      Freq.     Percent        Cum.\n",
      "------------+-----------------------------------\n",
      "       1998 |          1        9.09        9.09\n",
      "       2001 |          1        9.09       18.18\n",
      "       2004 |          1        9.09       27.27\n",
      "       2006 |          1        9.09       36.36\n",
      "       2009 |          1        9.09       45.45\n",
      "       2010 |          1        9.09       54.55\n",
      "       2011 |          1        9.09       63.64\n",
      "       2013 |          2       18.18       81.82\n",
      "       2015 |          2       18.18      100.00\n",
      "------------+-----------------------------------\n",
      "      Total |         11      100.00\n",
      "\n",
      "---------------------------------------------------------------------------------------------------------------------------------\n",
      "-> pubtype = Journal\n",
      "\n",
      "    pubyear |      Freq.     Percent        Cum.\n",
      "------------+-----------------------------------\n",
      "       1984 |          1        0.03        0.03\n",
      "       1997 |          1        0.03        0.06\n",
      "       1998 |         21        0.68        0.74\n",
      "       1999 |         31        1.00        1.75\n",
      "       2000 |         31        1.00        2.75\n",
      "       2001 |         43        1.39        4.14\n",
      "       2002 |         57        1.85        5.99\n",
      "       2003 |         61        1.97        7.96\n",
      "       2004 |         72        2.33       10.29\n",
      "       2005 |         77        2.49       12.79\n",
      "       2006 |         92        2.98       15.77\n",
      "       2007 |        121        3.92       19.68\n",
      "       2008 |        167        5.41       25.09\n",
      "       2009 |        185        5.99       31.08\n",
      "       2010 |        212        6.86       37.94\n",
      "       2011 |        199        6.44       44.38\n",
      "       2012 |        231        7.48       51.86\n",
      "       2013 |        260        8.42       60.28\n",
      "       2014 |        253        8.19       68.47\n",
      "       2015 |        313       10.13       78.60\n",
      "       2016 |        340       11.01       89.61\n",
      "       2017 |        314       10.17       99.77\n",
      "       2018 |          7        0.23      100.00\n",
      "------------+-----------------------------------\n",
      "      Total |      3,089      100.00\n",
      "\n"
     ]
    }
   ],
   "source": [
    "%%stata -d wos_a\n",
    "sum\n",
    "sort pubtype\n",
    "by pubtype: tab pubyear"
   ]
  },
  {
   "cell_type": "markdown",
   "metadata": {},
   "source": [
    "Run whatever other stata command you like. At the end, should you like to return into python, you just need to export data from stata to python in this way."
   ]
  },
  {
   "cell_type": "code",
   "execution_count": 8,
   "metadata": {},
   "outputs": [
    {
     "name": "stdout",
     "output_type": "stream",
     "text": [
      "\n",
      "(3,069 observations deleted)\n",
      "\n",
      "file wos_a.dta already exists\n",
      "r(602);\n",
      "\n"
     ]
    }
   ],
   "source": [
    "%%stata -d wos_a\n",
    "keep if pubyear==2000\n",
    "save wos_a"
   ]
  },
  {
   "cell_type": "code",
   "execution_count": 9,
   "metadata": {},
   "outputs": [
    {
     "name": "stdout",
     "output_type": "stream",
     "text": [
      "no; data in memory would be lost\n",
      "r(4);\n",
      "\n"
     ]
    }
   ],
   "source": [
    "%%stata -o df\n",
    "sysuse wos_a.dta"
   ]
  },
  {
   "cell_type": "markdown",
   "metadata": {},
   "source": [
    "df is a regular Pandas dataframe on which Python / Pandas actions can be performed."
   ]
  },
  {
   "cell_type": "code",
   "execution_count": 10,
   "metadata": {},
   "outputs": [
    {
     "name": "stdout",
     "output_type": "stream",
     "text": [
      "                    UID  pubyear  pubtype\n",
      "0   WOS:000085660400001     2000  Journal\n",
      "1   WOS:000085708100005     2000  Journal\n",
      "2   WOS:000085975500001     2000  Journal\n",
      "3   WOS:000086221000003     2000  Journal\n",
      "4   WOS:000086331600004     2000  Journal\n",
      "5   WOS:000086836700003     2000  Journal\n",
      "6   WOS:000086985300019     2000  Journal\n",
      "7   WOS:000087005300002     2000  Journal\n",
      "8   WOS:000087384100008     2000  Journal\n",
      "9   WOS:000087534400004     2000  Journal\n",
      "10  WOS:000087539500013     2000  Journal\n",
      "11  WOS:000087721100003     2000  Journal\n",
      "12  WOS:000087922300007     2000  Journal\n",
      "13  WOS:000088319100007     2000  Journal\n",
      "14  WOS:000088373300009     2000  Journal\n",
      "15  WOS:000088739900013     2000  Journal\n",
      "16  WOS:000088814000005     2000  Journal\n",
      "17  WOS:000088907300004     2000  Journal\n",
      "18  WOS:000089012900033     2000  Journal\n",
      "19  WOS:000089439100001     2000  Journal\n",
      "20  WOS:000089791500001     2000  Journal\n",
      "21  WOS:000089917700001     2000  Journal\n",
      "22  WOS:000089917700009     2000  Journal\n",
      "23  WOS:000089917700012     2000  Journal\n",
      "24  WOS:000089992900011     2000  Journal\n",
      "25  WOS:000090002500004     2000  Journal\n",
      "26  WOS:000165239700012     2000  Journal\n",
      "27  WOS:000165834800006     2000  Journal\n",
      "28  WOS:000165873000002     2000  Journal\n",
      "29  WOS:000166572200003     2000  Journal\n",
      "30  WOS:000167321200007     2000  Journal\n"
     ]
    }
   ],
   "source": [
    "print(df)"
   ]
  },
  {
   "cell_type": "code",
   "execution_count": 11,
   "metadata": {},
   "outputs": [
    {
     "name": "stdout",
     "output_type": "stream",
     "text": [
      "The following sessions have been found:\n",
      "main [active]\n"
     ]
    }
   ],
   "source": [
    "%%stata\n",
    "sessions"
   ]
  },
  {
   "cell_type": "code",
   "execution_count": 12,
   "metadata": {},
   "outputs": [
    {
     "name": "stdout",
     "output_type": "stream",
     "text": [
      "The following sessions have been closed:\n",
      "main\n"
     ]
    }
   ],
   "source": [
    "%%stata\n",
    "close"
   ]
  },
  {
   "cell_type": "markdown",
   "metadata": {},
   "source": [
    "For more info and examples:\n",
    "https://github.com/TiesdeKok/ipystata"
   ]
  },
  {
   "cell_type": "code",
   "execution_count": null,
   "metadata": {},
   "outputs": [],
   "source": []
  }
 ],
 "metadata": {
  "kernelspec": {
   "display_name": "Python 3",
   "language": "python",
   "name": "python3"
  },
  "language_info": {
   "codemirror_mode": {
    "name": "ipython",
    "version": 3
   },
   "file_extension": ".py",
   "mimetype": "text/x-python",
   "name": "python",
   "nbconvert_exporter": "python",
   "pygments_lexer": "ipython3",
   "version": "3.6.8"
  }
 },
 "nbformat": 4,
 "nbformat_minor": 2
}
