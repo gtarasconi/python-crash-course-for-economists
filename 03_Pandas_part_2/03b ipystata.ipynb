{
 "cells": [
  {
   "cell_type": "markdown",
   "metadata": {},
   "source": [
    "#### To use Stata seamlessly in a python jupyter notebook, follow the steps below.\n",
    "\n",
    "Only for Windows. For Mac, see https://github.com/TiesdeKok/ipystata\n",
    "\n",
    "Installation (only once)\n",
    "\n",
    "1. Install ipystata by running \"pip install ipystata\" (without double quotes). Before doing that remember to activate your conda environment.\n",
    "2. Register your Stata instance\n",
    "    * Open a command window as administrator and go to your Stata installation directory (e.g. C:\\Program Files (x86)\\Stata15\\StataSE-64.exe) and lookup the name of your Stata executable (e.g. StataSE-64.exe)\n",
    "    *  Type \"StataSE-64.exe /Register\" (without the double quotes)\n",
    "    \n",
    "Set installation directory for Stata. Use the following commands (change as appropriate) by unrmarking the # symbols. The second time you run the code flag again with the # symbols."
   ]
  },
  {
   "cell_type": "code",
   "execution_count": 1,
   "metadata": {},
   "outputs": [
    {
     "data": {
      "application/javascript": [
       "require(['notebook/js/codecell'], function(codecell) {\n",
       "\t\t\t  codecell.CodeCell.options_default.highlight_modes['magic_stata'] = {'reg':[/^%%stata/]} ;\n",
       "\t\t\t  Jupyter.notebook.events.one('kernel_ready.Kernel', function(){\n",
       "\t\t\t      Jupyter.notebook.get_cells().map(function(cell){\n",
       "\t\t\t          if (cell.cell_type == 'code'){ cell.auto_highlight(); } }) ;\n",
       "\t\t\t  });\n",
       "\t\t\t});"
      ]
     },
     "metadata": {},
     "output_type": "display_data"
    }
   ],
   "source": [
    "import ipystata  \n",
    "#from ipystata.config import config_stata  \n",
    "#config_stata('C:\\Program Files (x86)\\Stata15\\StataSE-64.exe')"
   ]
  },
  {
   "cell_type": "markdown",
   "metadata": {},
   "source": [
    "Restart your kernel (Kernel > Restart). You do not need to repeat the steps above every time, but only once."
   ]
  },
  {
   "cell_type": "markdown",
   "metadata": {},
   "source": [
    "#### Usage"
   ]
  },
  {
   "cell_type": "code",
   "execution_count": 2,
   "metadata": {
    "scrolled": true
   },
   "outputs": [
    {
     "data": {
      "text/html": [
       "<div>\n",
       "<style scoped>\n",
       "    .dataframe tbody tr th:only-of-type {\n",
       "        vertical-align: middle;\n",
       "    }\n",
       "\n",
       "    .dataframe tbody tr th {\n",
       "        vertical-align: top;\n",
       "    }\n",
       "\n",
       "    .dataframe thead th {\n",
       "        text-align: right;\n",
       "    }\n",
       "</style>\n",
       "<table border=\"1\" class=\"dataframe\">\n",
       "  <thead>\n",
       "    <tr style=\"text-align: right;\">\n",
       "      <th></th>\n",
       "      <th>UID</th>\n",
       "      <th>accession_no</th>\n",
       "      <th>issn</th>\n",
       "      <th>eissn</th>\n",
       "      <th>doi</th>\n",
       "      <th>doc_type</th>\n",
       "      <th>source</th>\n",
       "      <th>itemtitle</th>\n",
       "      <th>pubyear</th>\n",
       "      <th>pubmonth</th>\n",
       "      <th>...</th>\n",
       "      <th>pubtype</th>\n",
       "      <th>issue</th>\n",
       "      <th>supplement</th>\n",
       "      <th>special_issue</th>\n",
       "      <th>part_no</th>\n",
       "      <th>indicator</th>\n",
       "      <th>is_archive</th>\n",
       "      <th>has_abstract</th>\n",
       "      <th>oases_type_gold</th>\n",
       "      <th>abstract</th>\n",
       "    </tr>\n",
       "  </thead>\n",
       "  <tbody>\n",
       "    <tr>\n",
       "      <th>0</th>\n",
       "      <td>WOS:000071806400001</td>\n",
       "      <td>YV270</td>\n",
       "      <td>0170-8406</td>\n",
       "      <td>1741-3044</td>\n",
       "      <td>NaN</td>\n",
       "      <td>Article</td>\n",
       "      <td>ORGANIZATION STUDIES</td>\n",
       "      <td>An organizational assessment of interfirm coor...</td>\n",
       "      <td>1997</td>\n",
       "      <td>NaN</td>\n",
       "      <td>...</td>\n",
       "      <td>Journal</td>\n",
       "      <td>6</td>\n",
       "      <td>NaN</td>\n",
       "      <td>NaN</td>\n",
       "      <td>NaN</td>\n",
       "      <td>NaN</td>\n",
       "      <td>NaN</td>\n",
       "      <td>Y</td>\n",
       "      <td>NaN</td>\n",
       "      <td>\\r\\n&lt;p&gt;Inter-firm relationships are coordinate...</td>\n",
       "    </tr>\n",
       "    <tr>\n",
       "      <th>1</th>\n",
       "      <td>WOS:000072608300005</td>\n",
       "      <td>ZC705</td>\n",
       "      <td>0013-0133</td>\n",
       "      <td>NaN</td>\n",
       "      <td>NaN</td>\n",
       "      <td>Article</td>\n",
       "      <td>ECONOMIC JOURNAL</td>\n",
       "      <td>Pension reform and economic performance under ...</td>\n",
       "      <td>1998</td>\n",
       "      <td>MAR</td>\n",
       "      <td>...</td>\n",
       "      <td>Journal</td>\n",
       "      <td>447</td>\n",
       "      <td>NaN</td>\n",
       "      <td>NaN</td>\n",
       "      <td>NaN</td>\n",
       "      <td>NaN</td>\n",
       "      <td>NaN</td>\n",
       "      <td>Y</td>\n",
       "      <td>NaN</td>\n",
       "      <td>\\r\\n&lt;p&gt;We consider an overlapping generations ...</td>\n",
       "    </tr>\n",
       "    <tr>\n",
       "      <th>2</th>\n",
       "      <td>WOS:000073333300005</td>\n",
       "      <td>ZK531</td>\n",
       "      <td>0033-6807</td>\n",
       "      <td>NaN</td>\n",
       "      <td>NaN</td>\n",
       "      <td>Article</td>\n",
       "      <td>R &amp; D MANAGEMENT</td>\n",
       "      <td>Exploiting and creating knowledge through cust...</td>\n",
       "      <td>1998</td>\n",
       "      <td>APR</td>\n",
       "      <td>...</td>\n",
       "      <td>Journal</td>\n",
       "      <td>2</td>\n",
       "      <td>NaN</td>\n",
       "      <td>NaN</td>\n",
       "      <td>NaN</td>\n",
       "      <td>NaN</td>\n",
       "      <td>NaN</td>\n",
       "      <td>Y</td>\n",
       "      <td>NaN</td>\n",
       "      <td>\\r\\n&lt;p&gt;Through an in-depth analysis of a custo...</td>\n",
       "    </tr>\n",
       "    <tr>\n",
       "      <th>3</th>\n",
       "      <td>WOS:000073475100004</td>\n",
       "      <td>ZL821</td>\n",
       "      <td>0938-2259</td>\n",
       "      <td>NaN</td>\n",
       "      <td>NaN</td>\n",
       "      <td>Article</td>\n",
       "      <td>ECONOMIC THEORY</td>\n",
       "      <td>The optimality of nominal contracts</td>\n",
       "      <td>1998</td>\n",
       "      <td>MAY</td>\n",
       "      <td>...</td>\n",
       "      <td>Journal</td>\n",
       "      <td>3</td>\n",
       "      <td>NaN</td>\n",
       "      <td>NaN</td>\n",
       "      <td>NaN</td>\n",
       "      <td>NaN</td>\n",
       "      <td>NaN</td>\n",
       "      <td>Y</td>\n",
       "      <td>NaN</td>\n",
       "      <td>\\r\\n&lt;p&gt;This paper presents a model in which ag...</td>\n",
       "    </tr>\n",
       "    <tr>\n",
       "      <th>4</th>\n",
       "      <td>WOS:000073918900007</td>\n",
       "      <td>ZQ946</td>\n",
       "      <td>0040-585X</td>\n",
       "      <td>NaN</td>\n",
       "      <td>NaN</td>\n",
       "      <td>Article</td>\n",
       "      <td>THEORY OF PROBABILITY AND ITS APPLICATIONS</td>\n",
       "      <td>Well calibrated, coherent forecasting systems</td>\n",
       "      <td>1998</td>\n",
       "      <td>NaN</td>\n",
       "      <td>...</td>\n",
       "      <td>Journal</td>\n",
       "      <td>1</td>\n",
       "      <td>NaN</td>\n",
       "      <td>NaN</td>\n",
       "      <td>NaN</td>\n",
       "      <td>NaN</td>\n",
       "      <td>NaN</td>\n",
       "      <td>Y</td>\n",
       "      <td>NaN</td>\n",
       "      <td>\\r\\n&lt;p&gt;This paper introduces a definition of p...</td>\n",
       "    </tr>\n",
       "  </tbody>\n",
       "</table>\n",
       "<p>5 rows × 23 columns</p>\n",
       "</div>"
      ],
      "text/plain": [
       "                   UID accession_no       issn      eissn  doi doc_type  \\\n",
       "0  WOS:000071806400001        YV270  0170-8406  1741-3044  NaN  Article   \n",
       "1  WOS:000072608300005        ZC705  0013-0133        NaN  NaN  Article   \n",
       "2  WOS:000073333300005        ZK531  0033-6807        NaN  NaN  Article   \n",
       "3  WOS:000073475100004        ZL821  0938-2259        NaN  NaN  Article   \n",
       "4  WOS:000073918900007        ZQ946  0040-585X        NaN  NaN  Article   \n",
       "\n",
       "                                       source  \\\n",
       "0                        ORGANIZATION STUDIES   \n",
       "1                            ECONOMIC JOURNAL   \n",
       "2                            R & D MANAGEMENT   \n",
       "3                             ECONOMIC THEORY   \n",
       "4  THEORY OF PROBABILITY AND ITS APPLICATIONS   \n",
       "\n",
       "                                           itemtitle  pubyear pubmonth  ...  \\\n",
       "0  An organizational assessment of interfirm coor...     1997      NaN  ...   \n",
       "1  Pension reform and economic performance under ...     1998      MAR  ...   \n",
       "2  Exploiting and creating knowledge through cust...     1998      APR  ...   \n",
       "3                The optimality of nominal contracts     1998      MAY  ...   \n",
       "4      Well calibrated, coherent forecasting systems     1998      NaN  ...   \n",
       "\n",
       "   pubtype issue supplement special_issue part_no indicator is_archive  \\\n",
       "0  Journal     6        NaN           NaN     NaN       NaN        NaN   \n",
       "1  Journal   447        NaN           NaN     NaN       NaN        NaN   \n",
       "2  Journal     2        NaN           NaN     NaN       NaN        NaN   \n",
       "3  Journal     3        NaN           NaN     NaN       NaN        NaN   \n",
       "4  Journal     1        NaN           NaN     NaN       NaN        NaN   \n",
       "\n",
       "  has_abstract  oases_type_gold  \\\n",
       "0            Y              NaN   \n",
       "1            Y              NaN   \n",
       "2            Y              NaN   \n",
       "3            Y              NaN   \n",
       "4            Y              NaN   \n",
       "\n",
       "                                            abstract  \n",
       "0  \\r\\n<p>Inter-firm relationships are coordinate...  \n",
       "1  \\r\\n<p>We consider an overlapping generations ...  \n",
       "2  \\r\\n<p>Through an in-depth analysis of a custo...  \n",
       "3  \\r\\n<p>This paper presents a model in which ag...  \n",
       "4  \\r\\n<p>This paper introduces a definition of p...  \n",
       "\n",
       "[5 rows x 23 columns]"
      ]
     },
     "execution_count": 2,
     "metadata": {},
     "output_type": "execute_result"
    }
   ],
   "source": [
    "import pandas as pd\n",
    "\n",
    "wos = pd.read_csv(\"wos_publications.csv\")\n",
    "wos.head()"
   ]
  },
  {
   "cell_type": "raw",
   "metadata": {},
   "source": [
    "Check Stata is working."
   ]
  },
  {
   "cell_type": "code",
   "execution_count": 3,
   "metadata": {},
   "outputs": [
    {
     "name": "stdout",
     "output_type": "stream",
     "text": [
      "\n",
      "Stata is working!\n",
      "\n"
     ]
    }
   ],
   "source": [
    "get_ipython().run_cell_magic('stata', '', '\\ndisplay \"Stata is working!\"')"
   ]
  },
  {
   "cell_type": "markdown",
   "metadata": {},
   "source": [
    "Let's send a python DF to Stata."
   ]
  },
  {
   "cell_type": "code",
   "execution_count": 4,
   "metadata": {},
   "outputs": [],
   "source": [
    "import os\n",
    "os.chdir('D:/Dropbox/Python/notebooks/crash_course/')"
   ]
  },
  {
   "cell_type": "code",
   "execution_count": 5,
   "metadata": {},
   "outputs": [
    {
     "name": "stdout",
     "output_type": "stream",
     "text": [
      "Set the working directory of Stata to: D:\\Dropbox\\Python\\notebooks\\crash_course\n",
      "\n",
      "display not found\n",
      "r(111);\n",
      "\n"
     ]
    }
   ],
   "source": [
    "%%stata -cwd\n",
    "display display \"`c(pwd)'\""
   ]
  },
  {
   "cell_type": "code",
   "execution_count": 6,
   "metadata": {},
   "outputs": [],
   "source": [
    "import numpy as np\n",
    "#print(wos.columns)\n",
    "wos_a = wos.copy()\n",
    "wos_a['y'] = np.where(wos_a['special_issue']=='SI', 1, 0)\n",
    "wos_a = wos_a[['UID', 'pubyear', 'pubtype', 'y']]"
   ]
  },
  {
   "cell_type": "markdown",
   "metadata": {},
   "source": [
    "Regress the variable y on pub_year."
   ]
  },
  {
   "cell_type": "code",
   "execution_count": 7,
   "metadata": {},
   "outputs": [
    {
     "name": "stdout",
     "output_type": "stream",
     "text": [
      "                            OLS Regression Results                            \n",
      "==============================================================================\n",
      "Dep. Variable:                      y   R-squared:                       0.012\n",
      "Model:                            OLS   Adj. R-squared:                  0.012\n",
      "Method:                 Least Squares   F-statistic:                     37.75\n",
      "Date:                Fri, 24 May 2019   Prob (F-statistic):           9.06e-10\n",
      "Time:                        09:01:04   Log-Likelihood:                -158.74\n",
      "No. Observations:                3100   AIC:                             321.5\n",
      "Df Residuals:                    3098   BIC:                             333.6\n",
      "Df Model:                           1                                         \n",
      "Covariance Type:            nonrobust                                         \n",
      "==============================================================================\n",
      "                 coef    std err          t      P>|t|      [0.025      0.975]\n",
      "------------------------------------------------------------------------------\n",
      "Intercept    -12.0637      1.975     -6.108      0.000     -15.936      -8.191\n",
      "pubyear        0.0060      0.001      6.144      0.000       0.004       0.008\n",
      "==============================================================================\n",
      "Omnibus:                     2050.017   Durbin-Watson:                   1.672\n",
      "Prob(Omnibus):                  0.000   Jarque-Bera (JB):            15970.866\n",
      "Skew:                           3.286   Prob(JB):                         0.00\n",
      "Kurtosis:                      11.970   Cond. No.                     8.68e+05\n",
      "==============================================================================\n",
      "\n",
      "Warnings:\n",
      "[1] Standard Errors assume that the covariance matrix of the errors is correctly specified.\n",
      "[2] The condition number is large, 8.68e+05. This might indicate that there are\n",
      "strong multicollinearity or other numerical problems.\n"
     ]
    }
   ],
   "source": [
    "import statsmodels.formula.api as sm\n",
    "result = sm.ols(formula=\"y ~ pubyear\", data=wos_a).fit()\n",
    "print(result.summary())"
   ]
  },
  {
   "cell_type": "markdown",
   "metadata": {},
   "source": [
    "Now import the DF wos_a into stata and perform some stata command, e.g. sum"
   ]
  },
  {
   "cell_type": "code",
   "execution_count": 8,
   "metadata": {},
   "outputs": [
    {
     "name": "stdout",
     "output_type": "stream",
     "text": [
      "\n",
      "    Variable |        Obs        Mean    Std. Dev.       Min        Max\n",
      "-------------+---------------------------------------------------------\n",
      "       index |      3,100      1549.5    895.0372          0       3099\n",
      "         UID |          0\n",
      "     pubyear |      3,100    2011.296    4.660814       1984       2018\n",
      "     pubtype |          0\n",
      "           y |      3,100    .0706452    .2562725          0          1\n",
      "\n",
      "      Source |       SS           df       MS      Number of obs   =     3,100\n",
      "-------------+----------------------------------   F(1, 3098)      =     37.75\n",
      "       Model |  2.45032103         1  2.45032103   Prob > F        =    0.0000\n",
      "    Residual |  201.078389     3,098  .064905871   R-squared       =    0.0120\n",
      "-------------+----------------------------------   Adj R-squared   =    0.0117\n",
      "       Total |   203.52871     3,099  .065675608   Root MSE        =    .25477\n",
      "\n",
      "------------------------------------------------------------------------------\n",
      "           y |      Coef.   Std. Err.      t    P>|t|     [95% Conf. Interval]\n",
      "-------------+----------------------------------------------------------------\n",
      "     pubyear |   .0060331   .0009819     6.14   0.000     .0041078    .0079583\n",
      "       _cons |  -12.06366   1.974907    -6.11   0.000    -15.93592   -8.191402\n",
      "------------------------------------------------------------------------------\n",
      "\n"
     ]
    }
   ],
   "source": [
    "%%stata -d wos_a\n",
    "sum\n",
    "*sort pubtype\n",
    "*by pubtype: tab pubyear\n",
    "reg y pubyear"
   ]
  },
  {
   "cell_type": "markdown",
   "metadata": {},
   "source": [
    "Run whatever other stata command you like. At the end, should you like to return into python, you just need to export data from stata to python in this way."
   ]
  },
  {
   "cell_type": "code",
   "execution_count": 9,
   "metadata": {},
   "outputs": [
    {
     "name": "stdout",
     "output_type": "stream",
     "text": [
      "\n",
      "(3,069 observations deleted)\n",
      "\n",
      "file wos_a.dta already exists\n",
      "r(602);\n",
      "\n"
     ]
    }
   ],
   "source": [
    "%%stata -d wos_a\n",
    "keep if pubyear==2000\n",
    "save wos_a"
   ]
  },
  {
   "cell_type": "code",
   "execution_count": 10,
   "metadata": {},
   "outputs": [
    {
     "name": "stdout",
     "output_type": "stream",
     "text": [
      "no; data in memory would be lost\n",
      "r(4);\n",
      "\n"
     ]
    }
   ],
   "source": [
    "%%stata -o df\n",
    "sysuse wos_a.dta"
   ]
  },
  {
   "cell_type": "markdown",
   "metadata": {},
   "source": [
    "df is a regular Pandas dataframe on which Python / Pandas actions can be performed."
   ]
  },
  {
   "cell_type": "code",
   "execution_count": 11,
   "metadata": {},
   "outputs": [
    {
     "name": "stdout",
     "output_type": "stream",
     "text": [
      "                    UID  pubyear  pubtype  y\n",
      "0   WOS:000085660400001     2000  Journal  0\n",
      "1   WOS:000085708100005     2000  Journal  0\n",
      "2   WOS:000085975500001     2000  Journal  0\n",
      "3   WOS:000086221000003     2000  Journal  0\n",
      "4   WOS:000086331600004     2000  Journal  0\n",
      "5   WOS:000086836700003     2000  Journal  0\n",
      "6   WOS:000086985300019     2000  Journal  0\n",
      "7   WOS:000087005300002     2000  Journal  0\n",
      "8   WOS:000087384100008     2000  Journal  0\n",
      "9   WOS:000087534400004     2000  Journal  0\n",
      "10  WOS:000087539500013     2000  Journal  0\n",
      "11  WOS:000087721100003     2000  Journal  0\n",
      "12  WOS:000087922300007     2000  Journal  0\n",
      "13  WOS:000088319100007     2000  Journal  0\n",
      "14  WOS:000088373300009     2000  Journal  0\n",
      "15  WOS:000088739900013     2000  Journal  0\n",
      "16  WOS:000088814000005     2000  Journal  0\n",
      "17  WOS:000088907300004     2000  Journal  0\n",
      "18  WOS:000089012900033     2000  Journal  0\n",
      "19  WOS:000089439100001     2000  Journal  0\n",
      "20  WOS:000089791500001     2000  Journal  0\n",
      "21  WOS:000089917700001     2000  Journal  0\n",
      "22  WOS:000089917700009     2000  Journal  0\n",
      "23  WOS:000089917700012     2000  Journal  0\n",
      "24  WOS:000089992900011     2000  Journal  0\n",
      "25  WOS:000090002500004     2000  Journal  0\n",
      "26  WOS:000165239700012     2000  Journal  0\n",
      "27  WOS:000165834800006     2000  Journal  0\n",
      "28  WOS:000165873000002     2000  Journal  0\n",
      "29  WOS:000166572200003     2000  Journal  0\n",
      "30  WOS:000167321200007     2000  Journal  0\n"
     ]
    }
   ],
   "source": [
    "print(df)"
   ]
  },
  {
   "cell_type": "code",
   "execution_count": 12,
   "metadata": {},
   "outputs": [
    {
     "name": "stdout",
     "output_type": "stream",
     "text": [
      "The following sessions have been found:\n",
      "main [active]\n"
     ]
    }
   ],
   "source": [
    "%%stata\n",
    "sessions"
   ]
  },
  {
   "cell_type": "code",
   "execution_count": 13,
   "metadata": {},
   "outputs": [
    {
     "name": "stdout",
     "output_type": "stream",
     "text": [
      "The following sessions have been closed:\n",
      "main\n"
     ]
    }
   ],
   "source": [
    "%%stata\n",
    "close"
   ]
  },
  {
   "cell_type": "markdown",
   "metadata": {},
   "source": [
    "For more info and examples:\n",
    "https://github.com/TiesdeKok/ipystata"
   ]
  },
  {
   "cell_type": "code",
   "execution_count": null,
   "metadata": {},
   "outputs": [],
   "source": []
  }
 ],
 "metadata": {
  "kernelspec": {
   "display_name": "Python 3",
   "language": "python",
   "name": "python3"
  },
  "language_info": {
   "codemirror_mode": {
    "name": "ipython",
    "version": 3
   },
   "file_extension": ".py",
   "mimetype": "text/x-python",
   "name": "python",
   "nbconvert_exporter": "python",
   "pygments_lexer": "ipython3",
   "version": "3.6.8"
  }
 },
 "nbformat": 4,
 "nbformat_minor": 2
}
