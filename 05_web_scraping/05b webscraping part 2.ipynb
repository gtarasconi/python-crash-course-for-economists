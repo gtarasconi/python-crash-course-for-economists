{
 "cells": [
  {
   "cell_type": "markdown",
   "metadata": {},
   "source": [
    "# web scraping part 2\n",
    "\n",
    "In this second part we try to download a list of PDF from web page of Procter & Gamble \n",
    "virtual patent marking\n",
    "\n",
    "https://www.pg.com/patents/brands.shtml\n",
    "\n",
    "If we inspect the page near a PDF icon we find the following html:\n",
    "\n",
    "<a href=\"/patents/pdf/Scope.pdf\" target=\"_blank\"> <span style=\"float:right\"><img src=\"https://res.cloudinary.com/mtree/image/upload/v1/PG.com/patents/images/file_extension_pdf.png\" alt=\"\"></span></a>\n",
    "\n",
    "\n",
    "In this project module  PyPDF2 should be installed\n",
    "\n"
   ]
  },
  {
   "cell_type": "code",
   "execution_count": null,
   "metadata": {},
   "outputs": [],
   "source": [
    "import requests\n",
    "#import urllib.request\n",
    "import time\n",
    "from bs4 import BeautifulSoup\n",
    "\n",
    "url = \"https://www.pg.com/patents/brands.shtml\"\n",
    "response = requests.get(url)\n",
    "\n",
    "soup = BeautifulSoup(response.text, 'html.parser')\n",
    "\n",
    "for link in soup.find_all('a'):\n",
    "    print(link)\n"
   ]
  },
  {
   "cell_type": "markdown",
   "metadata": {},
   "source": [
    "##### In reality we need only the PDF link; \n",
    "\n",
    "so we check href content\n",
    "\n",
    "We use function get() that return values of html attributes, as href\n"
   ]
  },
  {
   "cell_type": "code",
   "execution_count": null,
   "metadata": {},
   "outputs": [],
   "source": [
    "for link in soup.find_all('a'):\n",
    "    print(link.get('href'))"
   ]
  },
  {
   "cell_type": "markdown",
   "metadata": {},
   "source": [
    "##### Next step: \n",
    "\n",
    "select only .pdf files and add url root\n",
    "\n",
    "(note all pdf URLs are relative not absolute link)"
   ]
  },
  {
   "cell_type": "code",
   "execution_count": null,
   "metadata": {},
   "outputs": [],
   "source": [
    "\n",
    "archive_url= \"https://www.pg.com\"\n",
    "\n",
    "pdf_links = [archive_url + link['href'] for link in soup.find_all('a') if link['href'].endswith('pdf')] \n",
    "\n",
    "pdf_links\n"
   ]
  },
  {
   "cell_type": "markdown",
   "metadata": {},
   "source": [
    "##### Files download:\n",
    "\n",
    "In this step we iterate the list pdf_links\n",
    "\n",
    "to download all the files\n"
   ]
  },
  {
   "cell_type": "code",
   "execution_count": null,
   "metadata": {},
   "outputs": [],
   "source": [
    "\n",
    "# this could also be called as a function\n",
    "# like def download_pdf(pdf_links)\n",
    "\n",
    "for link in pdf_links: \n",
    "  \n",
    "        '''iterate through all links in and download them one by one'''\n",
    "    \n",
    "        # this is to get relative path only links\n",
    "        if link[:4]!='http':\n",
    "            link = archive_url + link\n",
    "          \n",
    "        # obtain filename by splitting url and getting  \n",
    "        # last string \n",
    "        file_name = link.split('/')[-1]    \n",
    "  \n",
    "        print (\"Downloading file:%s\"%file_name) \n",
    "          \n",
    "        # create response object \n",
    "        r = requests.get(link, stream = True) \n",
    "          \n",
    "        # download started \n",
    "        with open(file_name, 'wb') as f: \n",
    "            for chunk in r.iter_content(chunk_size = 1024*1024): \n",
    "                if chunk: \n",
    "                    f.write(chunk) \n",
    "          \n",
    "        print (\"%s downloaded!\\n\"%file_name) \n",
    "  \n",
    "print (\"All file downloaded!\")\n",
    "\n"
   ]
  },
  {
   "cell_type": "markdown",
   "metadata": {},
   "source": [
    "\n",
    "Now we have a batch of PDF files containing lists of patent numbers and,\n",
    "\n",
    "in the best cases, a product name. Still they are PDFs, thus of very small utility.\n",
    "\n",
    "It is possible to use PyPDF2 to transform them into text\n",
    "\n",
    "\n"
   ]
  },
  {
   "cell_type": "code",
   "execution_count": null,
   "metadata": {},
   "outputs": [],
   "source": [
    "\n",
    "\n",
    "import PyPDF2\n",
    "import os\n",
    "\n",
    "pdfDir = \"\"\n",
    "txtDir = \"\"\n",
    "\n",
    "\n",
    "if pdfDir == \"\": pdfDir = os.getcwd() + \"\\\\\" #if no pdfDir passed in \n",
    "if txtDir == \"\": txtDir = os.getcwd() + \"\\\\\" #if no txtDir passed in     \n",
    "    \n",
    "    \n",
    "for pdf_to_read in os.listdir(pdfDir): #iterate through pdfs in pdf directory\n",
    "        fileExtension = pdf_to_read.split(\".\")[-1]   # -1 takes always last part\n",
    "        if fileExtension == \"pdf\":\n",
    "            pdfFilename = pdfDir + pdf_to_read \n",
    "            textFilename = txtDir + pdf_to_read + \".txt\"\n",
    "            textFile = open(textFilename, \"w\") #make text file\n",
    "            \n",
    "            pdf = PyPDF2.PdfFileReader(open(pdfFilename, \"rb\"))\n",
    "            for page in pdf.pages:\n",
    "                textFile.write(page.extractText()) #write text to text file\n",
    "                \n",
    "            textFile.close()\n",
    "   \n"
   ]
  },
  {
   "cell_type": "markdown",
   "metadata": {},
   "source": [
    "NOTE: most of the described PDF have tables in it;\n",
    "\n",
    "when converted into TXT still are not handy data.\n",
    "\n",
    "So we need a solution for creating a dataframe from those data:\n",
    "\n",
    "#### Easier PDF tables reading:\n",
    "\n",
    "Tabula is a module allowing to load pdf tables as JSON or even Pandas DFs\n",
    "\n",
    "pip install tabula-py\n",
    "\n",
    "data= read_pdf(pdfFilename,output_format=(default DF) ) \n",
    "\n",
    "\n",
    "NOTE: pip install tabula  will install tabula-1.0.5 and return error \n",
    "when importin read_pdf"
   ]
  },
  {
   "cell_type": "code",
   "execution_count": 3,
   "metadata": {},
   "outputs": [
    {
     "name": "stdout",
     "output_type": "stream",
     "text": [
      "Braun_eff_9_May_2017.pdf has a problem!\n",
      "Charmin.pdf has a problem!\n",
      "Cheer_eff_2018_July_11.pdf has a problem!\n",
      "Dreft_eff_2018_July_11.pdf has a problem!\n",
      "Era_eff_2018_July_11.pdf has a problem!\n",
      "Ivory_Snow_eff_2018_July_11.pdf has a problem!\n",
      "Scope.pdf has a problem!\n"
     ]
    }
   ],
   "source": [
    "from tabula import read_pdf\n",
    "import pandas as pd\n",
    "import os\n",
    "\n",
    "pdfDir = \"\"\n",
    "txtDir = \"\"\n",
    "\n",
    "if pdfDir == \"\": pdfDir = os.getcwd() + \"\\\\\"  # if no pdfDir passed in\n",
    "if txtDir == \"\": txtDir = os.getcwd() + \"\\\\\"  # if no txtDir passed in\n",
    "\n",
    "for pdf_to_read in os.listdir(pdfDir):  # iterate through pdfs in pdf directory\n",
    "        fileExtension = pdf_to_read.split(\".\")[-1]  # -1 takes always last part\n",
    "        if fileExtension == \"pdf\":\n",
    "            pdfFilename = pdfDir + pdf_to_read\n",
    "            textFilename = txtDir + pdf_to_read + \".txt\"\n",
    "            textFile = open(textFilename, \"w\")  # make text file\n",
    "\n",
    "            df= read_pdf(pdfFilename)    # loads dataframe with data\n",
    "            \n",
    "            try: \n",
    "                df.to_csv(textFilename)      # writes to csv\n",
    "            except:    \n",
    "                print(pdf_to_read + ' has a problem!')\n",
    "                \n",
    "            textFile.close()\n"
   ]
  },
  {
   "cell_type": "markdown",
   "metadata": {},
   "source": [
    "Other scraping libraries for more advanced use\n",
    "\n",
    "### Selenium\n",
    "Selenium Python bindings provides a simple API to write functional/acceptance tests using Selenium WebDriver.\n",
    "\n",
    "### scrapy\n",
    "\n"
   ]
  }
 ],
 "metadata": {
  "kernelspec": {
   "display_name": "Python 3",
   "language": "python",
   "name": "python3"
  },
  "language_info": {
   "codemirror_mode": {
    "name": "ipython",
    "version": 3
   },
   "file_extension": ".py",
   "mimetype": "text/x-python",
   "name": "python",
   "nbconvert_exporter": "python",
   "pygments_lexer": "ipython3",
   "version": "3.6.5"
  }
 },
 "nbformat": 4,
 "nbformat_minor": 2
}
