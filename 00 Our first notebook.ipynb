{
 "cells": [
  {
   "cell_type": "markdown",
   "metadata": {},
   "source": [
    "# Welcome!\n",
    "\n",
    "Please click on the cell below, and then execute it either by pressing the `run cell` button above (next to the `stop` button), or by hitting SHIFT+ENTER on your keyboard."
   ]
  },
  {
   "cell_type": "code",
   "execution_count": 1,
   "metadata": {},
   "outputs": [
    {
     "name": "stdout",
     "output_type": "stream",
     "text": [
      "Congratulations, you are already on your way to programming!\n"
     ]
    }
   ],
   "source": [
    "garble = 'C#LoBln{;gFZr>!a%LtVQu!(l&Ya!zt/;i iofKn: sg_,gh %gyGroUquJ` jeaY!r:-e]m $taIZlbCr \"e;Fa{Yd,hy>] _xog*nb{ |Ky*PoY)uTKr&K %)wipa@ny{g QEtMloXy %apWsr,foO\\'g+RryBaD\\'mT-m*}iIrnE;gy=!>t'\n",
    "\n",
    "print(''.join([garble[c] for c in range(0, len(garble), 3)]))"
   ]
  },
  {
   "cell_type": "markdown",
   "metadata": {
    "collapsed": true
   },
   "source": [
    "# Required libraries\n",
    "\n",
    "We will need some libraries not included in the base version of Anaconda.\n",
    "\n",
    "when requested to add them go to\n",
    "\n",
    "Environments\n",
    "\n",
    "On the right side select 'not installed' and search the package name.\n",
    "\n",
    "Then select and press 'Apply' for installation\n",
    "\n"
   ]
  },
  {
   "cell_type": "code",
   "execution_count": null,
   "metadata": {},
   "outputs": [],
   "source": []
  }
 ],
 "metadata": {
  "kernelspec": {
   "display_name": "Python 3",
   "language": "python",
   "name": "python3"
  },
  "language_info": {
   "codemirror_mode": {
    "name": "ipython",
    "version": 3
   },
   "file_extension": ".py",
   "mimetype": "text/x-python",
   "name": "python",
   "nbconvert_exporter": "python",
   "pygments_lexer": "ipython3",
   "version": "3.6.5"
  }
 },
 "nbformat": 4,
 "nbformat_minor": 2
}
