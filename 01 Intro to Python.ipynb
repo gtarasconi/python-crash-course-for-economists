{
 "cells": [
  {
   "cell_type": "markdown",
   "metadata": {},
   "source": [
    "# Introduction to Python: \n",
    "\n",
    "In this part some peculiarities of Python are listed:\n",
    "\n",
    "## Objects\n",
    "\n",
    "Everything in Python is an object\n",
    "\n",
    "How to access functions:\n",
    "Object_name.name_of_function()\n",
    "Example: Text_to_strip.strip()\n",
    "\n",
    "How to access data:\n",
    "Object_name.data_name\n",
    "List_with_text.[‘content’]\n",
    "\n",
    "Modules as well are objects; they have to be imported via import function\n",
    "and via dir() function you  \n",
    "\n",
    "\n"
   ]
  },
  {
   "cell_type": "code",
   "execution_count": null,
   "metadata": {},
   "outputs": [],
   "source": [
    "import numpy\n",
    "\n",
    "dir(numpy)"
   ]
  },
  {
   "cell_type": "markdown",
   "metadata": {},
   "source": [
    "### Indentation\n",
    "\n",
    "Whitespace is important in Python. Actually, whitespace at the beginning of the line is important. This is called indentation. Leading whitespace (spaces and tabs) at the beginning of the logical line is used to determine the indentation level of the logical line, which in turn is used to determine the grouping of statements.\n",
    "\n",
    "This means that statements which go together must have the same indentation. Each such set of statements is called a block. We will see examples of how blocks are important in later chapters.\n",
    "\n",
    "\n",
    "### Functions\n",
    "\n",
    "Functions are reusable pieces of programs. They allow you to give a name to a block of statements, allowing you to run that block using the specified name anywhere in your program and any number of times. This is known as calling the function. We have already used many built-in functions such as len and range.\n",
    "\n",
    "You define them with def keyword and it is possible to pass arguments and return values"
   ]
  },
  {
   "cell_type": "code",
   "execution_count": null,
   "metadata": {},
   "outputs": [],
   "source": [
    "def square(argument):\n",
    "    # block belonging to the function\n",
    "    return argument * argument\n",
    "# End of function\n",
    "\n",
    "square(13)  # call the function\n",
    "\n"
   ]
  },
  {
   "cell_type": "markdown",
   "metadata": {},
   "source": [
    "### Modules\n",
    "\n",
    "You have seen how you can reuse code in your program by defining functions once. What if you wanted to reuse a number of functions in other programs you should create (or use existing) modules.\n",
    "\n",
    "You include them in your code via keyword import MODULENAME.\n",
    "\n",
    "Or you can select only some parts via from XXX import YYY.\n",
    "\n",
    "(This last option is to save memory and import only needed functions)\n",
    "\n",
    "To save memory you should import only the modules you really need.\n",
    "\n",
    "If you use a debugger (as PyCharme) it will highlight if you imported some modules you do not use.\n"
   ]
  },
  {
   "cell_type": "code",
   "execution_count": null,
   "metadata": {},
   "outputs": [],
   "source": [
    "from math import sqrt\n",
    "print(\"Square root of 16 is\", sqrt(16))"
   ]
  },
  {
   "cell_type": "markdown",
   "metadata": {},
   "source": [
    "The built-in dir() function returns the list of names defined by an object. \n",
    "\n",
    "If the object is a module, this list includes functions, classes and variables, defined inside that module."
   ]
  },
  {
   "cell_type": "code",
   "execution_count": null,
   "metadata": {},
   "outputs": [],
   "source": [
    "import math\n",
    "dir(math)[5:12]"
   ]
  },
  {
   "cell_type": "code",
   "execution_count": null,
   "metadata": {},
   "outputs": [],
   "source": [
    "import this"
   ]
  },
  {
   "cell_type": "code",
   "execution_count": null,
   "metadata": {},
   "outputs": [],
   "source": [
    "import antigravity"
   ]
  },
  {
   "cell_type": "code",
   "execution_count": null,
   "metadata": {},
   "outputs": [],
   "source": [
    "this\n"
   ]
  },
  {
   "cell_type": "markdown",
   "metadata": {},
   "source": [
    "# Data structures:\n",
    "\n",
    "\n",
    "Data structures are used to store a collection of related data.\n",
    "\n",
    "\n",
    "## List\n",
    "\n",
    "A list is a data structure that holds an ordered collection of items i.e. you can store a sequence of items in a list.\n",
    "Is a mutable data type i.e. this type can be altered.\n",
    "They are defined by specifying items separated by commas enclosed in square brackets []\n"
   ]
  },
  {
   "cell_type": "code",
   "execution_count": null,
   "metadata": {},
   "outputs": [],
   "source": [
    "clist = ['Apple Inc.', 'I.B.M. Corp.', \"Alphabet Inc.\"]\n",
    "print (clist)"
   ]
  },
  {
   "cell_type": "code",
   "execution_count": null,
   "metadata": {},
   "outputs": [],
   "source": [
    "# if I need to sort them use .sort()\n",
    "\n",
    "clist.sort()\n",
    "print (clist)\n"
   ]
  },
  {
   "cell_type": "markdown",
   "metadata": {},
   "source": [
    "In example above we called a method (.sort()) of lists.\n",
    "\n",
    "We could have done the same by using a function [sorted()] \n",
    "\n",
    "The main differences between methods and functions are:\n",
    "\n",
    "- Method is called by its name, but it is associated to an object (dependent).\n",
    "- A method's argument is implicitly passed as the object on which it is invoked.\n",
    "- It may or may not return any data.\n"
   ]
  },
  {
   "cell_type": "code",
   "execution_count": null,
   "metadata": {},
   "outputs": [],
   "source": [
    "# uisng sorted() function \n",
    "\n",
    "print(sorted(clist))"
   ]
  },
  {
   "cell_type": "code",
   "execution_count": null,
   "metadata": {},
   "outputs": [],
   "source": [
    "# access element n via [n-1] (indexed 0-)\n",
    "\n",
    "print (clist[0:3])\n"
   ]
  },
  {
   "cell_type": "code",
   "execution_count": null,
   "metadata": {},
   "outputs": [],
   "source": [
    "# list is iterable\n",
    "\n",
    "for c in clist:\n",
    "    print(c)\n"
   ]
  },
  {
   "cell_type": "markdown",
   "metadata": {},
   "source": [
    "## Tuple\n",
    "\n",
    "Tuples are used to hold together multiple objects. They use \n",
    "They are immutable like strings; are defined same as lists but with ()\n",
    "\n",
    "Another difference: Tuples are much faster than Lists in creation and access\n",
    "\n"
   ]
  },
  {
   "cell_type": "code",
   "execution_count": null,
   "metadata": {},
   "outputs": [],
   "source": [
    "ctuple = ('Apple Inc.', 'I.B.M. Corp.', \"Alphabet Inc.\")\n",
    "print (ctuple)"
   ]
  },
  {
   "cell_type": "code",
   "execution_count": null,
   "metadata": {},
   "outputs": [],
   "source": [
    "# list is iterable not sortable (try for c in clist.sort(): you get error)\n",
    "\n",
    "for c in ctuple:\n",
    "     print(c)"
   ]
  },
  {
   "cell_type": "markdown",
   "metadata": {},
   "source": [
    "## Sequence\n",
    "\n",
    "Lists, tuples and strings are examples of sequences.\n",
    "\n",
    "The major features are membership tests, (i.e. the in and not in expressions) and indexing operations, which allow us to fetch a particular item in the sequence directly.\n",
    "\n",
    "Also have a slicing operation which allows us to retrieve a part of the sequence.\n",
    "\n",
    "Indexing, slicing by applying [n] or [n:m] \n",
    "\n",
    "Strings also are lists; strings are not modificable (cannot set string[1] = 'A') but can be indexed.\n",
    "\n"
   ]
  },
  {
   "cell_type": "code",
   "execution_count": null,
   "metadata": {},
   "outputs": [],
   "source": [
    "print('Item 2 is', clist[1])"
   ]
  },
  {
   "cell_type": "code",
   "execution_count": null,
   "metadata": {},
   "outputs": [],
   "source": [
    "# Slicing on a list #\n",
    "print('Item 1 leading 5 chars are', clist[0][0:5])"
   ]
  },
  {
   "cell_type": "markdown",
   "metadata": {},
   "source": [
    "## Dictionary\n",
    "\n",
    "A dictionary is like an address-book that associates keys(name) with values (details).\n",
    "\n",
    "Is defined by { (win: uppercase + altgr + [ )  and commas\n",
    "\n",
    "d = {key1 : value1, key2 : value2 }\n",
    "\n",
    "We use an example of basic data from COSMED company\n",
    "\n",
    "Key-value pairs in a dictionary are not ordered in any manner\n"
   ]
  },
  {
   "cell_type": "code",
   "execution_count": null,
   "metadata": {},
   "outputs": [],
   "source": [
    "\n",
    "COSMED= {\n",
    "    'Headquarters': 'Albano Laziale, Italy',\n",
    "    'Year of establishment': 1980,\n",
    "    'Staff':  120,\n",
    "    'Turnover': 17000000,\n",
    "    'Website': 'www.cosmed.com' \n",
    "}\n",
    "\n",
    "print(COSMED['Staff'])\n"
   ]
  },
  {
   "cell_type": "code",
   "execution_count": null,
   "metadata": {},
   "outputs": [],
   "source": [
    "for i in COSMED:\n",
    "    print(i , \" = \" , COSMED[i])"
   ]
  },
  {
   "cell_type": "markdown",
   "metadata": {},
   "source": [
    "## Set / frozenset\n",
    "\n",
    "Sets are unordered collections of simple objects. These are used when the existence of an object in a collection is more important than the order or how many times it occurs.\n",
    "\n",
    "Used to apply set theory.\n"
   ]
  },
  {
   "cell_type": "code",
   "execution_count": null,
   "metadata": {},
   "outputs": [],
   "source": [
    "brics = set(['brazil', 'russia', 'india', 'china', 'south africa'])\n",
    "\n",
    "bri = brics.copy()\n",
    "bri.remove('russia')\n",
    "bri.remove('china')\n",
    "\n",
    "brics.issuperset(bri)\n",
    "\n"
   ]
  },
  {
   "cell_type": "code",
   "execution_count": null,
   "metadata": {},
   "outputs": [],
   "source": [
    "# we apply here intersection\n",
    "\n",
    "bri & brics"
   ]
  },
  {
   "cell_type": "code",
   "execution_count": null,
   "metadata": {},
   "outputs": [],
   "source": [
    "# union of sets\n",
    "\n",
    "bri | brics"
   ]
  },
  {
   "cell_type": "markdown",
   "metadata": {},
   "source": [
    "# Control Flow\n",
    "\n",
    "There are three control flow statements in Python - for , if and while.\n",
    "\n",
    "## For\n",
    "\n",
    "The for..in statement is another looping statement which iterates over a sequence of objects i.e. go through each item in a sequence.\n"
   ]
  },
  {
   "cell_type": "code",
   "execution_count": null,
   "metadata": {},
   "outputs": [],
   "source": [
    "brics = set(['brazil', 'russia', 'india', 'china', 'south africa'])\n",
    "\n",
    "for i in brics:\n",
    "    print(i)\n",
    "else:\n",
    "    print('The for loop is over')\n"
   ]
  },
  {
   "cell_type": "markdown",
   "metadata": {},
   "source": [
    "\n",
    "## If\n",
    "\n",
    "Used to check a condition: if the condition is true, we run a block of statements (called the if-block),\n",
    "else we process another block of statements (called the else-block). \n",
    "\n",
    "The else clause is optional.\n"
   ]
  },
  {
   "cell_type": "code",
   "execution_count": null,
   "metadata": {},
   "outputs": [],
   "source": [
    "# if example\n",
    "\n",
    "pat_permillionpop_2006 = {'Denmark': 210.05, \n",
    "                          'Bulgaria': 3.56, \n",
    "                          'Belgium': 146.71, \n",
    "                          'Germany': 292.94, \n",
    "                          'Czechia': 14.96}\n",
    "\n",
    "for country in sorted(pat_permillionpop_2006):\n",
    "\n",
    "    if pat_permillionpop_2006[pat] > 200:\n",
    "        # New block starts here\n",
    "        print(country , ' has more than 200 patents per million of population in 2006')\n",
    "    elif pat_permillionpop_2006[pat] > 100:\n",
    "        # Another block\n",
    "        print(country , ' has between 100 and 200 patents per million of population in 2006')\n",
    "    else:\n",
    "        print(country , ' has less than 100 patents per million of population in 2006')\n",
    "        # you must have guessed > number to reach here"
   ]
  },
  {
   "cell_type": "markdown",
   "metadata": {},
   "source": [
    "## While\n",
    "\n",
    "The while statement allows you to repeatedly execute a block of statements as long as a condition is true.\n"
   ]
  },
  {
   "cell_type": "code",
   "execution_count": null,
   "metadata": {},
   "outputs": [],
   "source": [
    "\n",
    "clist = ['Apple Inc.', 'I.B.M. Corp.', \"Alphabet Inc.\"]\n",
    "step = 0\n",
    "target = 'I.B.M. Corp.'\n",
    "\n",
    "while clist[step] != target:\n",
    "    print (clist[step], 'is different than ', target)\n",
    "    step= step +1\n",
    "else:\n",
    "    print(target, ' found!')\n",
    "\n"
   ]
  }
 ],
 "metadata": {
  "kernelspec": {
   "display_name": "Python 3",
   "language": "python",
   "name": "python3"
  },
  "language_info": {
   "codemirror_mode": {
    "name": "ipython",
    "version": 3
   },
   "file_extension": ".py",
   "mimetype": "text/x-python",
   "name": "python",
   "nbconvert_exporter": "python",
   "pygments_lexer": "ipython3",
   "version": "3.6.5"
  }
 },
 "nbformat": 4,
 "nbformat_minor": 2
}
