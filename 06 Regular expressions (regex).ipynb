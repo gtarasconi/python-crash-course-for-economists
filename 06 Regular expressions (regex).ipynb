{
 "cells": [
  {
   "cell_type": "markdown",
   "metadata": {},
   "source": [
    "# Regular expressions\n",
    "\n",
    "Regexes let us work with patterns.\n",
    "\n",
    "Is helpful to:\n",
    "\n",
    "Standardize / clean batches of data (replace)\n",
    "Extract pieces of information (parsing)\n",
    "\n",
    "module name: re\n",
    "\n"
   ]
  },
  {
   "cell_type": "code",
   "execution_count": 2,
   "metadata": {},
   "outputs": [],
   "source": [
    "import re"
   ]
  },
  {
   "cell_type": "markdown",
   "metadata": {},
   "source": [
    "in order to test regexp you can also try \n",
    "\n",
    "https://regex101.com/\n",
    "\n",
    "where you can insert the regular expression and a test string.\n",
    "\n",
    "BASICS\n",
    "\n",
    "- . any char\n",
    "- ^ leading\n",
    "- $ trailing\n",
    "\n",
    "\n",
    "\n",
    "\n",
    "GROUPS and SPECIAL CHARS\n",
    "- \\b to match a word boundary\n",
    "- \\n or \\r\\n newline\n",
    "- \\s whitespaces   (vs \\S : no spaces)\n",
    "- \\d digits [0-9]  (vs \\D : no digits)\n",
    "- \\w matches chars [0-9A-Za-z_]\n",
    "\n",
    "\n",
    "\n",
    "REPETITIONS:\n",
    "\n",
    "- () contains agroup of chars to apply following:\n",
    "- match one or more chars:  +\n",
    "- match 0 or more chars:    * \n",
    "- match 0 or 1 repetitions: ?  (avoids greedy)\n",
    "- a{4} matches exactly 4 repetitions\n",
    "- 0{3,7} matches at least 3 but no more than 7 repetitions\n",
    "- | = or\n",
    "\n",
    "example (ab|cd)+\n",
    "\n",
    "SETS\n",
    "\n",
    "- [abc]: a b or c\n",
    "- [a-z]: any letter a to z (ascii order) \n",
    "- [^abc] : negative set: where not in abc\n",
    "\n",
    "example: [0-9] = \\d\n",
    "\n",
    "\n",
    "SYMBOLIC ACCESS\n",
    "- (?P<name>...) the substring matched by the group is accessible via the symbolic group name name\n",
    "\n",
    "\n",
    "\n"
   ]
  },
  {
   "cell_type": "markdown",
   "metadata": {},
   "source": [
    "## Find\n",
    "\n",
    "To Find an expression within a text exits the operator .search(text)\n",
    "\n",
    "We need before to compile() the pattern, then apply serch to the compiled pattern.\n"
   ]
  },
  {
   "cell_type": "code",
   "execution_count": 9,
   "metadata": {},
   "outputs": [
    {
     "name": "stdout",
     "output_type": "stream",
     "text": [
      "APPLE CORP\n"
     ]
    }
   ],
   "source": [
    "patterns= ['IBM', 'APPLE', 'INTEL']\n",
    "    \n",
    "lines = ['GOOGLE CORP', 'AMAZON LTD', 'APPLE CORP']    \n",
    "    \n",
    "for line in lines:    \n",
    "    for pattern in patterns:\n",
    "        rx = re.compile(pattern)    #  these 3 lines might be  \n",
    "        match = rx.search(line)     #  compressed in one:\n",
    "        if match:                   #  if re.compile(pattern).search(line):\n",
    "            print(line)\n",
    "    "
   ]
  },
  {
   "cell_type": "markdown",
   "metadata": {},
   "source": [
    "### Regex parsing\n",
    "\n",
    "Regex is very powerful when used together with dictionaries\n",
    "(hardcoded or even better loaded from file / external dbs)\n",
    "\n",
    "Along with symbolic patterns (?P<variable_name>regexp_pattern) allows data parsing.\n"
   ]
  },
  {
   "cell_type": "code",
   "execution_count": 15,
   "metadata": {},
   "outputs": [
    {
     "name": "stdout",
     "output_type": "stream",
     "text": [
      "City HELSINKI\n",
      "Country FINLAND\n",
      "Zip 00014\n"
     ]
    }
   ],
   "source": [
    "rx_dict = {'City':     re.compile(r' (?P<City>(\\w+)), \\w+$'),\n",
    "           'Country':  re.compile(r', (?P<Country>(\\w+))$'),\n",
    "           'Zip':      re.compile(r'(?P<Zip>(\\d{3,5}))') }\n",
    "\n",
    "line= \"00014 UNIV HELSINKI, DEPT FOREST ECOL, HELSINKI, FINLAND\"\n",
    "\n",
    "for key, rx in rx_dict.items():\n",
    "    match = rx.search(line)\n",
    "    if match:\n",
    "        print(key, match.group(key)) "
   ]
  },
  {
   "cell_type": "markdown",
   "metadata": {},
   "source": [
    "\n",
    "Anyway some patterns are more difficult than other.\n",
    "can anybody guess what type of address data can spot this patter?\n",
    "\n",
    "(?:[A-Za-z]\\d ?\\d[A-Za-z]{2})|(?:[A-Za-z][A-Za-z\\d]\\d ?\\d[A-Za-z]{2})|(?:[A-Za-z]{2}\\d{2} ?\\d[A-Za-z]{2})|(?:[A-Za-z]\\d[A-Za-z] ?\\d[A-Za-z]{2})|(?:[A-Za-z]{2}\\d[A-Za-z] ?\\d[A-Za-z]{2})\n"
   ]
  },
  {
   "cell_type": "markdown",
   "metadata": {},
   "source": [
    "## Replace\n",
    "\n",
    "re.sub(pattern, replace, string, count=0, flags=0)\n",
    "\n",
    "Allows multiple find and replace if pattern has multiple values held between parenthesis\n",
    "and replace has \\1 .. N for the arguments + other text\n"
   ]
  },
  {
   "cell_type": "markdown",
   "metadata": {},
   "source": [
    "#### Find duplicate lines in a text:\n",
    "\n",
    "PATTERN : ^(.*)(\\r?\\n\\1)+$ \n",
    "REPLACE : \\1\n",
    "    \n",
    "The caret will match only at the start of a line. \n",
    "So the regex engine will only attempt to match the remainder of the regex there. \n",
    "The dot and star combination simply matches an entire line, whatever its contents, if any. \n",
    "The parentheses store the matched line into the first backreference.\n",
    "\n",
    "Next we will match the line separator. \n",
    "Put the question mark into \\r?\\n to make this regex work with both Windows (\\r\\n) and UNIX (\\n) text files. \n",
    "So up to this point we matched a line and the following line break.\n",
    "\n",
    "Now we need to check if this combination is followed by a duplicate of that same line. \n",
    "We do this simply with \\1. This is the first backreference which holds the line we matched. \n",
    "The backreference will match that very same text.    \n",
    "    "
   ]
  },
  {
   "cell_type": "code",
   "execution_count": 15,
   "metadata": {},
   "outputs": [
    {
     "data": {
      "text/plain": [
       "'Johnny B. Goode'"
      ]
     },
     "execution_count": 15,
     "metadata": {},
     "output_type": "execute_result"
    }
   ],
   "source": [
    "# moves from surname, name 2nd name  to name 2nd name surname\n",
    "\n",
    "name = \"Goode, Johnny B.\"\n",
    "\n",
    "pattern= re.compile(r'([\\w-]+), ([\\w-]+) ([A-Z]\\.)')\n",
    "replace = r'\\2 \\3 \\1'\n",
    "           \n",
    "re.sub(pattern, replace, name, count=0, flags=0)           \n",
    "\n"
   ]
  },
  {
   "cell_type": "code",
   "execution_count": 3,
   "metadata": {},
   "outputs": [
    {
     "data": {
      "text/plain": [
       "'24/12/2012, $50.00'"
      ]
     },
     "execution_count": 3,
     "metadata": {},
     "output_type": "execute_result"
    }
   ],
   "source": [
    "# from MMDDYYYY to DDMMYYYY\n",
    "\n",
    "name = \"12/24/2012, $50.00\"\n",
    "\n",
    "pattern= re.compile(r'(\\d+)/(\\d+)/(\\d+)')\n",
    "replace = r'\\2/\\1/\\3'\n",
    "           \n",
    "re.sub(pattern, replace, name, count=0, flags=0)       \n",
    "\n",
    "\n"
   ]
  },
  {
   "cell_type": "markdown",
   "metadata": {},
   "source": [
    "### Remove\n",
    "\n",
    "\n",
    "(?:...) A non-capturing version of regular parentheses. Matches whatever regular expression is inside the parentheses, but the substring matched by the group cannot be retrieved after performing a match; helpful to save memory / number of groups\n",
    "\n",
    "Example, remove optional part of zip code in US addresses\n"
   ]
  },
  {
   "cell_type": "code",
   "execution_count": 16,
   "metadata": {},
   "outputs": [
    {
     "data": {
      "text/plain": [
       "'New York, 10020, United States'"
      ]
     },
     "execution_count": 16,
     "metadata": {},
     "output_type": "execute_result"
    }
   ],
   "source": [
    "\n",
    "name = \"New York 10020-9020 United States\"\n",
    "\n",
    "pattern= re.compile(r'( \\d{5})(?:-\\d{4})')\n",
    "replace = r',\\1,'\n",
    "           \n",
    "re.sub(pattern, replace, name, count=0, flags=0)     "
   ]
  },
  {
   "cell_type": "markdown",
   "metadata": {},
   "source": [
    "### Greediness and laziness\n",
    "\n",
    "example: remove html tags\n",
    "(don't do it with regexp: better beautifulsoup module)\n",
    "\n",
    "\n",
    "\n"
   ]
  },
  {
   "cell_type": "code",
   "execution_count": 30,
   "metadata": {},
   "outputs": [
    {
     "data": {
      "text/plain": [
       "'Today, I built a website which is now listed on various search engines.'"
      ]
     },
     "execution_count": 30,
     "metadata": {},
     "output_type": "execute_result"
    }
   ],
   "source": [
    "\n",
    "name = 'Today, I built a <a href=\"http://example.com\" style=\"color:green;\">website</a> which is now listed <a class=\"header remoteLink\" href=\"http://www.google.com\">on various search engines</a>.'\n",
    "\n",
    "pattern= re.compile(r'(<.*?>)')\n",
    "replace = r''\n",
    "           \n",
    "re.sub(pattern, replace, name, count=0, flags=0)   \n"
   ]
  },
  {
   "cell_type": "code",
   "execution_count": null,
   "metadata": {},
   "outputs": [],
   "source": []
  },
  {
   "cell_type": "code",
   "execution_count": null,
   "metadata": {},
   "outputs": [],
   "source": []
  }
 ],
 "metadata": {
  "kernelspec": {
   "display_name": "Python 3",
   "language": "python",
   "name": "python3"
  },
  "language_info": {
   "codemirror_mode": {
    "name": "ipython",
    "version": 3
   },
   "file_extension": ".py",
   "mimetype": "text/x-python",
   "name": "python",
   "nbconvert_exporter": "python",
   "pygments_lexer": "ipython3",
   "version": "3.5.0"
  }
 },
 "nbformat": 4,
 "nbformat_minor": 2
}
